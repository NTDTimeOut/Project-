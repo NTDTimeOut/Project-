{
 "cells": [
  {
   "attachments": {},
   "cell_type": "markdown",
   "metadata": {},
   "source": [
    "### Thư viện\n"
   ]
  },
  {
   "cell_type": "code",
   "execution_count": 18,
   "metadata": {},
   "outputs": [],
   "source": [
    "import os\n",
    "import pandas as pd\n",
    "from sklearn.svm import SVC\n",
    "from sklearn.model_selection import train_test_split\n",
    "from sklearn.metrics import accuracy_score"
   ]
  },
  {
   "attachments": {},
   "cell_type": "markdown",
   "metadata": {},
   "source": [
    "### Train\n"
   ]
  },
  {
   "cell_type": "code",
   "execution_count": 19,
   "metadata": {},
   "outputs": [],
   "source": [
    "# Đường dẫn đến thư mục chứa dữ liệu\n",
    "data_processing_dir = \"./Data_set/Data_processing/\"\n",
    "\n",
    "\n",
    "# Xác định các đặc trưng (features) và nhãn (labels)\n",
    "features = [\"Gx\", \"Gy\", \"Gz\", \"Ax\", \"Ay\", \"Az\"]\n",
    "\n",
    "# Chuẩn bị dữ liệu huấn luyện\n",
    "train_data = []\n",
    "train_labels = []\n",
    "\n",
    "# Đọc dữ liệu từ thư mục Data_processing\n",
    "for file_name in os.listdir(data_processing_dir):\n",
    "    if file_name.endswith(\"_0.csv\"):\n",
    "        label = 0  # Nhãn nữ\n",
    "    elif file_name.endswith(\"_1.csv\"):\n",
    "        label = 1  # Nhãn nam\n",
    "    else:\n",
    "        continue\n",
    "\n",
    "    file_path = os.path.join(data_processing_dir, file_name)\n",
    "    df = pd.read_csv(file_path)\n",
    "    flattened_data = df[features].values.flatten()  # Chuyển đổi dữ liệu thành 2 chiều\n",
    "    train_data.append(flattened_data)\n",
    "    train_labels.append(label)\n",
    "\n",
    "# Xây dựng mô hình SVM\n",
    "svm_model = SVC()\n",
    "svm_model.fit(train_data, train_labels)\n",
    "\n",
    "# Chuẩn bị dữ liệu kiểm tra\n",
    "test_data = []\n",
    "test_labels = []"
   ]
  },
  {
   "attachments": {},
   "cell_type": "markdown",
   "metadata": {},
   "source": [
    "### Test"
   ]
  },
  {
   "cell_type": "code",
   "execution_count": 20,
   "metadata": {},
   "outputs": [
    {
     "name": "stdout",
     "output_type": "stream",
     "text": [
      "Độ chính xác của mô hình SVM trên dữ liệu kiểm tra: 63.69%\n"
     ]
    }
   ],
   "source": [
    "data_test_dir = \"./Data_set/Data_test/\"\n",
    "\n",
    "# Đọc dữ liệu từ thư mục Data_test\n",
    "for file_name in os.listdir(data_test_dir):\n",
    "    if file_name.endswith(\"_0.csv\"):\n",
    "        label = 0  # Nhãn nữ\n",
    "    elif file_name.endswith(\"_1.csv\"):\n",
    "        label = 1  # Nhãn nam\n",
    "    else:\n",
    "        continue\n",
    "\n",
    "    file_path = os.path.join(data_test_dir, file_name)\n",
    "    df = pd.read_csv(file_path)\n",
    "    flattened_data = df[features].values.flatten()  # Chuyển đổi dữ liệu thành 2 chiều\n",
    "    test_data.append(flattened_data)\n",
    "    test_labels.append(label)\n",
    "\n",
    "# Dự đoán nhãn cho dữ liệu kiểm tra\n",
    "predictions = svm_model.predict(test_data)\n",
    "\n",
    "# Đánh giá độ chính xác\n",
    "accuracy = accuracy_score(test_labels, predictions)\n",
    "print(\"Độ chính xác của mô hình SVM trên dữ liệu kiểm tra: {:.2f}%\".format(accuracy * 100))"
   ]
  }
 ],
 "metadata": {
  "kernelspec": {
   "display_name": "Python 3",
   "language": "python",
   "name": "python3"
  },
  "language_info": {
   "codemirror_mode": {
    "name": "ipython",
    "version": 3
   },
   "file_extension": ".py",
   "mimetype": "text/x-python",
   "name": "python",
   "nbconvert_exporter": "python",
   "pygments_lexer": "ipython3",
   "version": "3.10.11"
  },
  "orig_nbformat": 4
 },
 "nbformat": 4,
 "nbformat_minor": 2
}
